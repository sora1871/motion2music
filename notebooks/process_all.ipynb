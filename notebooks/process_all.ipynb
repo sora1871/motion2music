{
 "cells": [
  {
   "cell_type": "code",
   "execution_count": 1,
   "id": "82bf44f5",
   "metadata": {},
   "outputs": [],
   "source": [
    "import cv2\n",
    "import pandas as pd\n",
    "import numpy as np\n",
    "from mediapipe.python.solutions import pose as mp_pose\n",
    "from sklearn.preprocessing import StandardScaler\n",
    "import os\n",
    "from glob import glob"
   ]
  },
  {
   "cell_type": "code",
   "execution_count": 2,
   "id": "57861298",
   "metadata": {},
   "outputs": [],
   "source": [
    "# 1. ポーズ抽出関数（x, y, zのみ）\n",
    "def extract_pose_from_video(video_path):\n",
    "    cap = cv2.VideoCapture(video_path)\n",
    "    pose = mp_pose.Pose(static_image_mode=False)\n",
    "    all_landmarks = []\n",
    "\n",
    "    while True:\n",
    "        ret, frame = cap.read()\n",
    "        if not ret:\n",
    "            break\n",
    "\n",
    "        frame_rgb = cv2.cvtColor(frame, cv2.COLOR_BGR2RGB)\n",
    "        results = pose.process(frame_rgb)\n",
    "\n",
    "        if results.pose_landmarks:\n",
    "            frame_data = []\n",
    "            for lm in results.pose_landmarks.landmark:\n",
    "                frame_data.extend([lm.x, lm.y, lm.z])\n",
    "            all_landmarks.append(frame_data)\n",
    "\n",
    "    cap.release()\n",
    "\n",
    "    if all_landmarks:\n",
    "        columns = [f'P{i}_{axis}' for i in range(33) for axis in ('x', 'y', 'z')]\n",
    "        df = pd.DataFrame(all_landmarks, columns=columns)\n",
    "        return df\n",
    "    else:\n",
    "        print(f\"⚠️ No landmarks extracted from {video_path}\")\n",
    "        return None\n",
    "\n",
    "# 2. 前処理関数（補完・スケーリング・フレーム数統一）\n",
    "def preprocess_pose_dataframe(df):\n",
    "    df = df.copy()\n",
    "\n",
    "    # 欠損補完\n",
    "    df.interpolate(method='linear', limit_direction='both', inplace=True)\n",
    "    df.fillna(df.mean(), inplace=True)\n",
    "\n",
    "    # # スケーリング\n",
    "    # scaler = StandardScaler()\n",
    "    # df_scaled = pd.DataFrame(scaler.fit_transform(df), columns=df.columns)\n",
    "\n",
    "    return df\n"
   ]
  },
  {
   "cell_type": "code",
   "execution_count": 3,
   "id": "c9c7741e",
   "metadata": {},
   "outputs": [
    {
     "name": "stdout",
     "output_type": "stream",
     "text": [
      "🎬 対象動画ファイル数: 35\n",
      "✅ 完了: ../data/normalized_features/0814\\久世.csv\n",
      "✅ 完了: ../data/normalized_features/0814\\十河.csv\n",
      "✅ 完了: ../data/normalized_features/0814\\十河1人目リラックスVID20250616115433.csv\n",
      "✅ 完了: ../data/normalized_features/0814\\十河1人目嬉しいVID20250616115335.csv\n",
      "✅ 完了: ../data/normalized_features/0814\\十河1人目悲しいVID20250616115353.csv\n",
      "✅ 完了: ../data/normalized_features/0814\\十河1人目緊張VID20250616115419.csv\n",
      "✅ 完了: ../data/normalized_features/0814\\十河2人目リラックスVID20250616120023.csv\n",
      "✅ 完了: ../data/normalized_features/0814\\十河2人目嬉しいVID20250616115944.csv\n",
      "✅ 完了: ../data/normalized_features/0814\\十河2人目悲しいVID20250616115957.csv\n",
      "✅ 完了: ../data/normalized_features/0814\\十河2人目緊張VID20250616120010.csv\n",
      "✅ 完了: ../data/normalized_features/0814\\十河3人目リラックスVID20250616120127.csv\n",
      "✅ 完了: ../data/normalized_features/0814\\十河3人目嬉しいVID20250616120042.csv\n",
      "✅ 完了: ../data/normalized_features/0814\\十河3人目悲しいVID20250616120100.csv\n",
      "✅ 完了: ../data/normalized_features/0814\\十河3人目緊張VID20250616120112.csv\n",
      "✅ 完了: ../data/normalized_features/0814\\十河4人目リラックスVID20250616120356.csv\n",
      "✅ 完了: ../data/normalized_features/0814\\十河4人目嬉しいVID20250616120305.csv\n",
      "✅ 完了: ../data/normalized_features/0814\\十河4人目悲しいVID20250616120318.csv\n",
      "✅ 完了: ../data/normalized_features/0814\\十河4人目緊張VID20250616120342.csv\n",
      "✅ 完了: ../data/normalized_features/0814\\比嘉1人目嬉しい.csv\n",
      "✅ 完了: ../data/normalized_features/0814\\比嘉1人目悲しい.csv\n",
      "✅ 完了: ../data/normalized_features/0814\\比嘉1人目緊張.csv\n",
      "✅ 完了: ../data/normalized_features/0814\\比嘉1人目通常.csv\n",
      "✅ 完了: ../data/normalized_features/0814\\比嘉2人目嬉しい.csv\n",
      "✅ 完了: ../data/normalized_features/0814\\比嘉2人目悲しい.csv\n",
      "✅ 完了: ../data/normalized_features/0814\\比嘉2人目緊張.csv\n",
      "✅ 完了: ../data/normalized_features/0814\\比嘉2人目通常.csv\n",
      "✅ 完了: ../data/normalized_features/0814\\水谷.csv\n",
      "✅ 完了: ../data/normalized_features/0814\\水谷1人目_リラックス.csv\n",
      "✅ 完了: ../data/normalized_features/0814\\水谷1人目_嬉しい.csv\n",
      "✅ 完了: ../data/normalized_features/0814\\水谷1人目_悲しい.csv\n",
      "✅ 完了: ../data/normalized_features/0814\\水谷1人目_緊張.csv\n",
      "✅ 完了: ../data/normalized_features/0814\\水谷2人目_リラックス.csv\n",
      "✅ 完了: ../data/normalized_features/0814\\水谷2人目_嬉しい.csv\n",
      "✅ 完了: ../data/normalized_features/0814\\水谷2人目_悲しい.csv\n",
      "✅ 完了: ../data/normalized_features/0814\\水谷2人目_緊張.csv\n"
     ]
    }
   ],
   "source": [
    "# --- パス設定 ---\n",
    "input_dir = \"../data/動画データ_ver3\"\n",
    "output_dir = \"../data/normalized_features/0814\"\n",
    "os.makedirs(output_dir, exist_ok=True)\n",
    "\n",
    "# --- .mp4 と .mov の両方を対象に ---\n",
    "video_paths = sorted(\n",
    "    glob(os.path.join(input_dir, \"*.mp4\")) +\n",
    "    glob(os.path.join(input_dir, \"*.mov\"))\n",
    ")\n",
    "\n",
    "print(f\"🎬 対象動画ファイル数: {len(video_paths)}\")\n",
    "\n",
    "for video_path in video_paths:\n",
    "    filename = os.path.splitext(os.path.basename(video_path))[0]\n",
    "    output_csv_path = os.path.join(output_dir, f\"{filename}.csv\")\n",
    "\n",
    "    df_raw = extract_pose_from_video(video_path)\n",
    "    if df_raw is not None:\n",
    "        df_processed = preprocess_pose_dataframe(df_raw)\n",
    "        df_processed.to_csv(output_csv_path, index=False)\n",
    "        print(f\"✅ 完了: {output_csv_path}\")\n",
    "    else:\n",
    "        print(f\"❌ スキップ: {video_path}\")"
   ]
  },
  {
   "cell_type": "code",
   "execution_count": null,
   "id": "f26f2393",
   "metadata": {},
   "outputs": [],
   "source": []
  },
  {
   "cell_type": "code",
   "execution_count": null,
   "id": "e5b1382c",
   "metadata": {},
   "outputs": [],
   "source": []
  },
  {
   "cell_type": "code",
   "execution_count": null,
   "id": "c72ddb96",
   "metadata": {},
   "outputs": [],
   "source": []
  },
  {
   "cell_type": "code",
   "execution_count": null,
   "id": "f2812efb",
   "metadata": {},
   "outputs": [],
   "source": []
  },
  {
   "cell_type": "code",
   "execution_count": null,
   "id": "9ff2b22f",
   "metadata": {},
   "outputs": [],
   "source": []
  },
  {
   "cell_type": "code",
   "execution_count": null,
   "id": "233084ff",
   "metadata": {},
   "outputs": [],
   "source": []
  },
  {
   "cell_type": "code",
   "execution_count": null,
   "id": "91ec5d4a",
   "metadata": {},
   "outputs": [],
   "source": []
  },
  {
   "cell_type": "code",
   "execution_count": null,
   "id": "ade7f435",
   "metadata": {},
   "outputs": [],
   "source": []
  }
 ],
 "metadata": {
  "kernelspec": {
   "display_name": "Python (venv)",
   "language": "python",
   "name": "venv"
  },
  "language_info": {
   "codemirror_mode": {
    "name": "ipython",
    "version": 3
   },
   "file_extension": ".py",
   "mimetype": "text/x-python",
   "name": "python",
   "nbconvert_exporter": "python",
   "pygments_lexer": "ipython3",
   "version": "3.10.3"
  }
 },
 "nbformat": 4,
 "nbformat_minor": 5
}
